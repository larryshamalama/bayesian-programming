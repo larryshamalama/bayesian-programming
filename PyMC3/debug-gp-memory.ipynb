{
 "cells": [
  {
   "cell_type": "code",
   "execution_count": 2,
   "metadata": {},
   "outputs": [],
   "source": [
    "import numpy as np\n",
    "import pymc3 as pm\n",
    "import os, psutil\n",
    "\n",
    "X = np.random.randn(100, 1)\n",
    "y = np.random.randn(100, 1)"
   ]
  },
  {
   "cell_type": "code",
   "execution_count": 3,
   "metadata": {},
   "outputs": [
    {
     "name": "stderr",
     "output_type": "stream",
     "text": [
      "/Users/larryshamalama/opt/anaconda3/envs/stat/lib/python3.8/site-packages/pymc3/sampling.py:465: FutureWarning: In an upcoming release, pm.sample will return an `arviz.InferenceData` object instead of a `MultiTrace` by default. You can pass return_inferencedata=True or return_inferencedata=False to be safe and silence this warning.\n",
      "  warnings.warn(\n",
      "Only 2 samples in chain.\n",
      "Auto-assigning NUTS sampler...\n",
      "Initializing NUTS using jitter+adapt_diag...\n",
      "Sequential sampling (1 chains in 1 job)\n",
      "NUTS: [ls]\n"
     ]
    },
    {
     "data": {
      "text/html": [
       "\n",
       "    <div>\n",
       "        <style>\n",
       "            /* Turns off some styling */\n",
       "            progress {\n",
       "                /* gets rid of default border in Firefox and Opera. */\n",
       "                border: none;\n",
       "                /* Needs to be in here for Safari polyfill so background images work as expected. */\n",
       "                background-size: auto;\n",
       "            }\n",
       "            .progress-bar-interrupted, .progress-bar-interrupted::-webkit-progress-bar {\n",
       "                background: #F44336;\n",
       "            }\n",
       "        </style>\n",
       "      <progress value='4' class='' max='4' style='width:300px; height:20px; vertical-align: middle;'></progress>\n",
       "      100.00% [4/4 00:03<00:00 Sampling chain 0, 0 divergences]\n",
       "    </div>\n",
       "    "
      ],
      "text/plain": [
       "<IPython.core.display.HTML object>"
      ]
     },
     "metadata": {},
     "output_type": "display_data"
    },
    {
     "name": "stderr",
     "output_type": "stream",
     "text": [
      "Sampling 1 chain for 2 tune and 2 draw iterations (2 + 2 draws total) took 3 seconds.\n",
      "/Users/larryshamalama/opt/anaconda3/envs/stat/lib/python3.8/site-packages/pymc3/sampling.py:641: UserWarning: The number of samples is too small to check convergence reliably.\n",
      "  warnings.warn(\"The number of samples is too small to check convergence reliably.\")\n"
     ]
    },
    {
     "name": "stdout",
     "output_type": "stream",
     "text": [
      "Memory usage (GB): 0.199897088\n",
      "Memory usage (GB): 0.205426688\n",
      "Memory usage (GB): 0.21118976\n",
      "Memory usage (GB): 0.218288128\n",
      "Memory usage (GB): 0.225345536\n",
      "Memory usage (GB): 0.23402496\n",
      "Memory usage (GB): 0.242692096\n",
      "Memory usage (GB): 0.251506688\n",
      "Memory usage (GB): 0.259035136\n",
      "Memory usage (GB): 0.268075008\n",
      "Memory usage (GB): 0.276905984\n",
      "Memory usage (GB): 0.28608512\n",
      "Memory usage (GB): 0.29485056\n",
      "Memory usage (GB): 0.297320448\n",
      "Memory usage (GB): 0.305967104\n",
      "Memory usage (GB): 0.314712064\n",
      "Memory usage (GB): 0.324022272\n",
      "Memory usage (GB): 0.332918784\n",
      "Memory usage (GB): 0.342011904\n",
      "Memory usage (GB): 0.350134272\n",
      "Memory usage (GB): 0.357359616\n",
      "Memory usage (GB): 0.366133248\n",
      "Memory usage (GB): 0.375209984\n",
      "Memory usage (GB): 0.383422464\n",
      "Memory usage (GB): 0.392536064\n",
      "Memory usage (GB): 0.401502208\n",
      "Memory usage (GB): 0.410660864\n",
      "Memory usage (GB): 0.417390592\n",
      "Memory usage (GB): 0.425848832\n",
      "Memory usage (GB): 0.434868224\n"
     ]
    }
   ],
   "source": [
    "with pm.Model() as model:\n",
    "    ls   = pm.Uniform('ls', lower=0.1, upper=4.0) \n",
    "    matern   = pm.gp.cov.Matern52(1, ls=ls, active_dims=[0])\n",
    "    gp = pm.gp.Marginal(cov_func=matern)\n",
    "    ll = gp.marginal_likelihood('ll', X, y, noise=1.0, is_observed=True)\n",
    "    trace = pm.sample(chains=1, cores=1, tune=2, draws = 2)\n",
    "    \n",
    "    Xnew = np.random.randn(200,1)\n",
    "    process = psutil.Process(os.getpid())\n",
    "    for i in range(30):\n",
    "        _ = gp.predict(X, diag=False)\n",
    "        \n",
    "        print('Memory usage (GB):', process.memory_info().rss/ 1_000_000_000)"
   ]
  },
  {
   "cell_type": "code",
   "execution_count": 4,
   "metadata": {},
   "outputs": [
    {
     "data": {
      "text/plain": [
       "0.252297216"
      ]
     },
     "execution_count": 4,
     "metadata": {},
     "output_type": "execute_result"
    }
   ],
   "source": [
    "process.memory_info().rss/ 1_000_000_000"
   ]
  },
  {
   "cell_type": "code",
   "execution_count": null,
   "metadata": {},
   "outputs": [],
   "source": []
  }
 ],
 "metadata": {
  "kernelspec": {
   "display_name": "stat",
   "language": "python",
   "name": "stat"
  },
  "language_info": {
   "codemirror_mode": {
    "name": "ipython",
    "version": 3
   },
   "file_extension": ".py",
   "mimetype": "text/x-python",
   "name": "python",
   "nbconvert_exporter": "python",
   "pygments_lexer": "ipython3",
   "version": "3.8.5"
  }
 },
 "nbformat": 4,
 "nbformat_minor": 4
}
