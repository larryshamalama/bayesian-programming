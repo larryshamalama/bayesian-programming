{
 "cells": [
  {
   "cell_type": "code",
   "execution_count": 3,
   "metadata": {},
   "outputs": [
    {
     "data": {
      "text/plain": [
       "['/Users/larryshamalama/Dropbox/My Mac (Larrys-MBP)/Documents/GitHub/bayesian-programming/PyMC3',\n",
       " '/Users/larryshamalama/opt/anaconda3/lib/python38.zip',\n",
       " '/Users/larryshamalama/opt/anaconda3/lib/python3.8',\n",
       " '/Users/larryshamalama/opt/anaconda3/lib/python3.8/lib-dynload',\n",
       " '',\n",
       " '/Users/larryshamalama/opt/anaconda3/lib/python3.8/site-packages',\n",
       " '/Users/larryshamalama/opt/anaconda3/lib/python3.8/site-packages/aeosa',\n",
       " '/Users/larryshamalama/opt/anaconda3/lib/python3.8/site-packages/IPython/extensions',\n",
       " '/Users/larryshamalama/.ipython']"
      ]
     },
     "execution_count": 3,
     "metadata": {},
     "output_type": "execute_result"
    }
   ],
   "source": [
    "import sys\n",
    "sys.path"
   ]
  },
  {
   "cell_type": "code",
   "execution_count": 1,
   "metadata": {},
   "outputs": [
    {
     "ename": "ModuleNotFoundError",
     "evalue": "No module named 'pymc3'",
     "output_type": "error",
     "traceback": [
      "\u001b[0;31m---------------------------------------------------------------------------\u001b[0m",
      "\u001b[0;31mModuleNotFoundError\u001b[0m                       Traceback (most recent call last)",
      "\u001b[0;32m<ipython-input-1-3ad65d57a3a3>\u001b[0m in \u001b[0;36m<module>\u001b[0;34m\u001b[0m\n\u001b[1;32m      3\u001b[0m \u001b[0;32mimport\u001b[0m \u001b[0mmatplotlib\u001b[0m\u001b[0;34m.\u001b[0m\u001b[0mpyplot\u001b[0m \u001b[0;32mas\u001b[0m \u001b[0mplt\u001b[0m\u001b[0;34m\u001b[0m\u001b[0;34m\u001b[0m\u001b[0m\n\u001b[1;32m      4\u001b[0m \u001b[0;32mimport\u001b[0m \u001b[0mseaborn\u001b[0m \u001b[0;32mas\u001b[0m \u001b[0msns\u001b[0m\u001b[0;34m\u001b[0m\u001b[0;34m\u001b[0m\u001b[0m\n\u001b[0;32m----> 5\u001b[0;31m \u001b[0;32mimport\u001b[0m \u001b[0mpymc3\u001b[0m \u001b[0;32mas\u001b[0m \u001b[0mpm\u001b[0m\u001b[0;34m\u001b[0m\u001b[0;34m\u001b[0m\u001b[0m\n\u001b[0m\u001b[1;32m      6\u001b[0m \u001b[0;32mimport\u001b[0m \u001b[0mpandas\u001b[0m \u001b[0;32mas\u001b[0m \u001b[0mpd\u001b[0m\u001b[0;34m\u001b[0m\u001b[0;34m\u001b[0m\u001b[0m\n\u001b[1;32m      7\u001b[0m \u001b[0;34m\u001b[0m\u001b[0m\n",
      "\u001b[0;31mModuleNotFoundError\u001b[0m: No module named 'pymc3'"
     ]
    }
   ],
   "source": [
    "import cython\n",
    "import numpy as np\n",
    "import matplotlib.pyplot as plt\n",
    "import seaborn as sns\n",
    "import pymc3 as pm\n",
    "import pandas as pd\n",
    "\n",
    "from matplotlib.image import imread\n",
    "\n",
    "from theano import scan\n",
    "import theano.tensor as tt\n",
    "\n",
    "from pymc3.distributions import continuous\n",
    "from pymc3.distributions import distribution\n",
    "\n",
    "%matplotlib inline\n",
    "%config InlineBackend.figure_format = 'retina'\n",
    "plt.style.use('seaborn-darkgrid')"
   ]
  },
  {
   "cell_type": "code",
   "execution_count": null,
   "metadata": {},
   "outputs": [],
   "source": [
    "intercept_0 = 4\n",
    "beta_0 = [2, 3] # the _0 represents the true parameter, not to be confused with the intercept\n",
    "sigma_0 = 1.5\n",
    "n = 100\n",
    "\n",
    "x1 = np.random.normal(loc=3, scale=2, size=[n, 1])\n",
    "x2 = np.random.binomial(n=1, p=0.5, size=[n, 1])\n",
    "assert sum(x2) > 0 and sum(x2) < n\n",
    "\n",
    "x = np.hstack((x1, x2))\n",
    "y = intercept_0 + x@np.array(beta_0) + np.random.normal(loc=0, scale=sigma_0, size=[n,])"
   ]
  },
  {
   "cell_type": "code",
   "execution_count": null,
   "metadata": {},
   "outputs": [],
   "source": [
    "with pm.Model() as model:\n",
    "    intercept = pm.Normal(\"intercept\", mu=0, sigma=5)\n",
    "    \n",
    "    mean = intercept\n",
    "    beta = {}\n",
    "    \n",
    "    for i in range(x.shape[1]):\n",
    "        beta[i+1] = pm.Normal(f\"beta{i+1}\", mu=0, sigma=5)\n",
    "        mean += beta[i+1]*x[:, i]\n",
    "\n",
    "    sigma = pm.InverseGamma(\"sigma\", alpha=2, beta=2)\n",
    "    \n",
    "    yi = pm.Normal(\"y\", mu=mean, sigma=sigma, observed=y)\n",
    "    \n",
    "    trace = pm.sample(draws=2000, chains=3, tune=2000)\n",
    "    posterior_pred = pm.sample_posterior_predictive(trace)"
   ]
  },
  {
   "cell_type": "code",
   "execution_count": null,
   "metadata": {},
   "outputs": [],
   "source": [
    "trace.get_values(\"beta1\", combine=False)"
   ]
  },
  {
   "cell_type": "code",
   "execution_count": null,
   "metadata": {},
   "outputs": [],
   "source": [
    "_ = pm.traceplot(trace, var_names=[\"intercept\"] + [f\"beta{k}\" for k in beta.keys()] + [\"sigma\"])\n",
    "plt.show()"
   ]
  },
  {
   "cell_type": "code",
   "execution_count": null,
   "metadata": {},
   "outputs": [],
   "source": []
  }
 ],
 "metadata": {
  "kernelspec": {
   "display_name": "pymc3",
   "language": "python",
   "name": "pymc3"
  },
  "language_info": {
   "codemirror_mode": {
    "name": "ipython",
    "version": 3
   },
   "file_extension": ".py",
   "mimetype": "text/x-python",
   "name": "python",
   "nbconvert_exporter": "python",
   "pygments_lexer": "ipython3",
   "version": "3.8.5"
  }
 },
 "nbformat": 4,
 "nbformat_minor": 4
}
